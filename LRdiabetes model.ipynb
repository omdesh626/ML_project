{
 "cells": [
  {
   "cell_type": "code",
   "execution_count": 94,
   "id": "0265b988-d9ae-4092-b1f5-debfc1cc0b12",
   "metadata": {},
   "outputs": [],
   "source": [
    "\n",
    "import numpy as np \n",
    "from sklearn.linear_model import LinearRegression\n",
    "x_test=np.genfromtxt('test_diabetes_x_test.csv',delimiter=',')\n",
    "train=np.genfromtxt('training_diabetes_x_y_train.csv',delimiter=',')\n",
    "\n",
    "x_train=train[:,:-1]\n",
    "y_train=train[:,-1]\n",
    "alg1=LinearRegression()\n",
    "alg1.fit(x_train,y_train)\n",
    "prediction=alg1.predict(x_test)\n",
    "np.savetxt('prediction.csv', prediction, fmt='%.5f', delimiter=',')"
   ]
  },
  {
   "cell_type": "markdown",
   "id": "775947d7-80e8-405a-9228-8426d9f5c026",
   "metadata": {},
   "source": [
    "##### "
   ]
  }
 ],
 "metadata": {
  "kernelspec": {
   "display_name": "Python 3 (ipykernel)",
   "language": "python",
   "name": "python3"
  },
  "language_info": {
   "codemirror_mode": {
    "name": "ipython",
    "version": 3
   },
   "file_extension": ".py",
   "mimetype": "text/x-python",
   "name": "python",
   "nbconvert_exporter": "python",
   "pygments_lexer": "ipython3",
   "version": "3.11.7"
  }
 },
 "nbformat": 4,
 "nbformat_minor": 5
}
